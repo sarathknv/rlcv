{
 "cells": [
  {
   "cell_type": "code",
   "execution_count": 1,
   "metadata": {},
   "outputs": [],
   "source": [
    "import copy\n",
    "import matplotlib.pyplot as plt\n",
    "import numpy as np\n",
    "import pprint\n",
    "import torch\n",
    "import torch.backends\n",
    "import torch.nn as nn\n",
    "import torch.optim as optim\n",
    "from torch.optim.lr_scheduler import ReduceLROnPlateau, StepLR\n",
    "from torch.utils.data import DataLoader\n",
    "from torchvision import datasets, transforms\n",
    "\n",
    "from agents import Agent, attach_agents\n",
    "from models import VGG16\n",
    "from training_utils import validate, train\n",
    "\n",
    "# TODO: a 1 or 0 1 means keep or drop? see if loss is correct with 1 or 0"
   ]
  },
  {
   "cell_type": "markdown",
   "metadata": {},
   "source": [
    "Hyperparameters"
   ]
  },
  {
   "cell_type": "code",
   "execution_count": 2,
   "metadata": {},
   "outputs": [],
   "source": [
    "class Args:\n",
    "    checkpoint = 'best.pth.tar'  # Pretrained VGG weights for CIFAR10\n",
    "    num_workers = 0\n",
    "    batch_size = 256\n",
    "    lr_agents = 0.01\n",
    "    lr_model = 0.001\n",
    "    epochs = 200 \n",
    "    penalty = 10  # lambda\n",
    "    init_weight = 6.9   # Agent's initial weight value\n",
    "    \n",
    "    if torch.cuda.is_available():\n",
    "        device = torch.device('cuda')\n",
    "    elif hasattr(torch.backends, 'mps') and torch.backends.mps.is_available():\n",
    "        device = torch.device('mps')\n",
    "    else:\n",
    "        device = torch.device('cpu')\n",
    "\n",
    "args = Args()"
   ]
  },
  {
   "cell_type": "markdown",
   "metadata": {},
   "source": [
    "Load CIFAR-10 dataset"
   ]
  },
  {
   "cell_type": "code",
   "execution_count": 3,
   "metadata": {},
   "outputs": [
    {
     "name": "stdout",
     "output_type": "stream",
     "text": [
      "Files already downloaded and verified\n",
      "Files already downloaded and verified\n"
     ]
    }
   ],
   "source": [
    "train_data = datasets.CIFAR10('./data', train=True, download=True,\n",
    "                              transform=transforms.Compose([\n",
    "                                  transforms.RandomHorizontalFlip(),\n",
    "                                  transforms.RandomCrop(32, padding=4),\n",
    "                                  transforms.RandomRotation(20),\n",
    "                                  transforms.ToTensor(),\n",
    "                              ]))\n",
    "\n",
    "val_data = datasets.CIFAR10('./data', train=False, download=True,\n",
    "                            transform=transforms.Compose([\n",
    "                                transforms.ToTensor(),\n",
    "                            ]))\n",
    "\n",
    "train_loader = DataLoader(train_data,\n",
    "                          batch_size=args.batch_size,\n",
    "                          shuffle=True,\n",
    "                          num_workers=args.num_workers)\n",
    "\n",
    "val_loader = DataLoader(val_data,\n",
    "                        batch_size=args.batch_size,\n",
    "                        shuffle=True,\n",
    "                        num_workers=args.num_workers)"
   ]
  },
  {
   "attachments": {},
   "cell_type": "markdown",
   "metadata": {},
   "source": [
    "Load pretrained VGG16 model"
   ]
  },
  {
   "cell_type": "code",
   "execution_count": 4,
   "metadata": {},
   "outputs": [],
   "source": [
    "checkpoint = torch.load(args.checkpoint, map_location=args.device)\n",
    "model = VGG16()\n",
    "model.load_state_dict(checkpoint['state_dict'])\n",
    "model.to(args.device)\n",
    "model.eval();\n",
    "\n",
    "model_orig = copy.deepcopy(model)  # Copy of the original model, just in case."
   ]
  },
  {
   "cell_type": "markdown",
   "metadata": {},
   "source": [
    "Print the baseline accuracy"
   ]
  },
  {
   "cell_type": "code",
   "execution_count": 5,
   "metadata": {},
   "outputs": [
    {
     "name": "stderr",
     "output_type": "stream",
     "text": [
      "Val: 100%|██████████| 40/40 [00:02<00:00, 19.05it/s, acc=0.919]"
     ]
    },
    {
     "name": "stdout",
     "output_type": "stream",
     "text": [
      "Baseline accuracy: 0.9194\n"
     ]
    },
    {
     "name": "stderr",
     "output_type": "stream",
     "text": [
      "\n"
     ]
    }
   ],
   "source": [
    "val_acc = validate(model, val_loader, args.device)\n",
    "print('Baseline accuracy: {}'.format(val_acc))"
   ]
  },
  {
   "attachments": {},
   "cell_type": "markdown",
   "metadata": {},
   "source": [
    "Attach agents"
   ]
  },
  {
   "cell_type": "code",
   "execution_count": 6,
   "metadata": {},
   "outputs": [],
   "source": [
    "modules_to_prune = [['features.0', 'features.1'],\n",
    "                    ['features.3', 'features.4'],\n",
    "                    ['features.7', 'features.8'],\n",
    "                    ['features.10', 'features.11'],\n",
    "                    ['features.14', 'features.15'],\n",
    "                    ['features.17', 'features.18'],\n",
    "                    ['features.20', 'features.21'],\n",
    "                    ['features.24', 'features.25'],\n",
    "                    ['features.27', 'features.28'],\n",
    "                    ['features.30', 'features.31'],\n",
    "                    ['features.34', 'features.35'],\n",
    "                    ['features.37', 'features.38'],\n",
    "                    ['features.40', 'features.41'],\n",
    "                    ['classifier.0', 'classifier.1']]\n",
    "\n",
    "agents, name_to_agent, num_agents, num_subagents = attach_agents(model,\n",
    "                                                                 modules_to_prune,\n",
    "                                                                 args.device,\n",
    "                                                                 args.init_weight)"
   ]
  },
  {
   "cell_type": "code",
   "execution_count": 7,
   "metadata": {},
   "outputs": [
    {
     "name": "stdout",
     "output_type": "stream",
     "text": [
      "Total agents: 4736\n"
     ]
    }
   ],
   "source": [
    "print('Total agents: {}'.format(sum(agent.num_subagents for agent in agents)))\n",
    "assert num_subagents == sum(agent.num_subagents for agent in agents)"
   ]
  },
  {
   "cell_type": "markdown",
   "metadata": {},
   "source": [
    "Training the model"
   ]
  },
  {
   "cell_type": "code",
   "execution_count": 8,
   "metadata": {},
   "outputs": [
    {
     "name": "stdout",
     "output_type": "stream",
     "text": [
      "Epoch: 0\n"
     ]
    },
    {
     "name": "stderr",
     "output_type": "stream",
     "text": [
      "Train: 100%|██████████| 196/196 [00:22<00:00,  8.56it/s, acc=0.957, dropped=6.56, loss_a=0.000339, loss_m=0.000524, p=0.999, p_max=0.999, p_min=0.997, w=6.56]\n",
      "Val: 100%|██████████| 40/40 [00:02<00:00, 16.10it/s, acc=0.919]\n"
     ]
    },
    {
     "name": "stdout",
     "output_type": "stream",
     "text": [
      "Epoch: 1\n"
     ]
    },
    {
     "name": "stderr",
     "output_type": "stream",
     "text": [
      "Train: 100%|██████████| 196/196 [00:22<00:00,  8.79it/s, acc=0.957, dropped=10.2, loss_a=0.000509, loss_m=0.000515, p=0.998, p_max=0.999, p_min=0.987, w=6.29]\n",
      "Val: 100%|██████████| 40/40 [00:02<00:00, 16.63it/s, acc=0.919]\n"
     ]
    },
    {
     "name": "stdout",
     "output_type": "stream",
     "text": [
      "Epoch: 2\n"
     ]
    },
    {
     "name": "stderr",
     "output_type": "stream",
     "text": [
      "Train:  68%|██████▊   | 134/196 [00:15<00:07,  8.66it/s, acc=0.955, dropped=11.3, loss_a=0.000652, loss_m=0.000525, p=0.997, p_max=0.999, p_min=0.97, w=6.12] \n"
     ]
    },
    {
     "ename": "KeyboardInterrupt",
     "evalue": "",
     "output_type": "error",
     "traceback": [
      "\u001b[0;31m---------------------------------------------------------------------------\u001b[0m",
      "\u001b[0;31mKeyboardInterrupt\u001b[0m                         Traceback (most recent call last)",
      "Cell \u001b[0;32mIn[8], line 11\u001b[0m\n\u001b[1;32m      8\u001b[0m \u001b[39mfor\u001b[39;00m epoch \u001b[39min\u001b[39;00m \u001b[39mrange\u001b[39m(args\u001b[39m.\u001b[39mepochs):\n\u001b[1;32m      9\u001b[0m     \u001b[39mprint\u001b[39m(\u001b[39m'\u001b[39m\u001b[39mEpoch: \u001b[39m\u001b[39m{}\u001b[39;00m\u001b[39m'\u001b[39m\u001b[39m.\u001b[39mformat(epoch))\n\u001b[0;32m---> 11\u001b[0m     train_logs \u001b[39m=\u001b[39m train(model, agents, train_loader, optimizer_model,\n\u001b[1;32m     12\u001b[0m                        optimizer_agents, criterion_model, args\u001b[39m.\u001b[39;49mpenalty,\n\u001b[1;32m     13\u001b[0m                        args\u001b[39m.\u001b[39;49mdevice, optimize_agents\u001b[39m=\u001b[39;49m\u001b[39mTrue\u001b[39;49;00m, optimize_model\u001b[39m=\u001b[39;49m\u001b[39mFalse\u001b[39;49;00m)\n\u001b[1;32m     15\u001b[0m     [agent\u001b[39m.\u001b[39meval() \u001b[39mfor\u001b[39;00m agent \u001b[39min\u001b[39;00m agents]\n\u001b[1;32m     16\u001b[0m     val_acc \u001b[39m=\u001b[39m validate(model, val_loader, args\u001b[39m.\u001b[39mdevice)\n",
      "File \u001b[0;32m~/Desktop/decore/training_utils.py:81\u001b[0m, in \u001b[0;36mtrain\u001b[0;34m(model, agents, train_loader, optimizer_model, optimizer_agents, criterion_model, penalty, device, optimize_agents, optimize_model)\u001b[0m\n\u001b[1;32m     78\u001b[0m     loss_model \u001b[39m=\u001b[39m criterion_model(outputs, y)\n\u001b[1;32m     80\u001b[0m y_pred \u001b[39m=\u001b[39m torch\u001b[39m.\u001b[39margmax(outputs, dim\u001b[39m=\u001b[39m\u001b[39m1\u001b[39m)\n\u001b[0;32m---> 81\u001b[0m correct_pred \u001b[39m+\u001b[39m\u001b[39m=\u001b[39m (y_pred \u001b[39m==\u001b[39;49m y)\u001b[39m.\u001b[39;49msum()\u001b[39m.\u001b[39;49mitem()\n\u001b[1;32m     82\u001b[0m total_samples \u001b[39m+\u001b[39m\u001b[39m=\u001b[39m X\u001b[39m.\u001b[39msize(\u001b[39m0\u001b[39m)\n\u001b[1;32m     83\u001b[0m accuracy \u001b[39m=\u001b[39m correct_pred \u001b[39m/\u001b[39m total_samples\n",
      "\u001b[0;31mKeyboardInterrupt\u001b[0m: "
     ]
    }
   ],
   "source": [
    "optimizer_agents = optim.Adam([agent.w for agent in agents], lr=args.lr_agents)\n",
    "# scheduler_agents = StepLR(optimizer_agents, step_size=5, gamma=0.3)\n",
    "\n",
    "optimizer_model = optim.Adam(model.parameters(), lr=args.lr_model)#, momentum=0.9, weight_decay=0.0005)\n",
    "# scheduler_model = StepLR(optimizer_model, step_size=5, gamma=0.3)\n",
    "\n",
    "criterion_model = nn.CrossEntropyLoss().to(args.device)\n",
    "for epoch in range(args.epochs):\n",
    "    print('Epoch: {}'.format(epoch))\n",
    "    \n",
    "    train_logs = train(model, agents, train_loader, optimizer_model,\n",
    "                       optimizer_agents, criterion_model, args.penalty,\n",
    "                       args.device, optimize_agents=True, optimize_model=False)\n",
    "    \n",
    "    [agent.eval() for agent in agents]\n",
    "    val_acc = validate(model, val_loader, args.device)\n",
    "    \n",
    "pprint.pprint(train_logs)\n",
    "print('Val accuracy: {}'.format(val_acc))\n"
   ]
  },
  {
   "cell_type": "code",
   "execution_count": null,
   "metadata": {},
   "outputs": [
    {
     "name": "stdout",
     "output_type": "stream",
     "text": [
      "Avg p: 0.9101315205434638\n",
      "Min p: 0.00011273632117081434\n",
      "Max p: 0.9999794960021973\n",
      "Total agents: 4736\n",
      "Agents p >= 0.5: 4436\n",
      "Agents p >= 0.9: 3887\n",
      "Agents p >= 0.998: 1042\n",
      "Agents p >= 0.999: 623\n"
     ]
    }
   ],
   "source": [
    "p_list = []\n",
    "for agent in agents:\n",
    "    p_list += torch.sigmoid(agent.w).tolist()    \n",
    "\n",
    "print('Avg p: {}'.format(sum(p_list)/len(p_list)))\n",
    "print('Min p: {}'.format(min(p_list)))\n",
    "print('Max p: {}'.format(max(p_list)))\n",
    "print('Total agents: {}'.format(sum(agent.num_subagents for agent in agents)))\n",
    "print('Agents p >= 0.5: {}'.format(sum(p >= 0.5 for p in p_list)))\n",
    "print('Agents p >= 0.9: {}'.format(sum(p >= 0.9 for p in p_list)))\n",
    "print('Agents p >= 0.998: {}'.format(sum(p >= 0.998 for p in p_list)))\n",
    "print('Agents p >= 0.999: {}'.format(sum(p >= 0.999 for p in p_list)))\n",
    "\n",
    "assert len(p_list) == sum(agent.num_subagents for agent in agents)"
   ]
  },
  {
   "attachments": {},
   "cell_type": "markdown",
   "metadata": {},
   "source": [
    "Drop the highest weight channel."
   ]
  },
  {
   "cell_type": "code",
   "execution_count": null,
   "metadata": {},
   "outputs": [
    {
     "name": "stderr",
     "output_type": "stream",
     "text": [
      "Val: 100%|██████████| 40/40 [00:02<00:00, 15.99it/s, acc=0.914]\n",
      "Val: 100%|██████████| 40/40 [00:02<00:00, 16.50it/s, acc=0.919]"
     ]
    },
    {
     "name": "stdout",
     "output_type": "stream",
     "text": [
      "Val acc: 0.9141\n",
      "Val acc orig: 0.9194\n",
      "Accuracy drop: 0.005299999999999971\n"
     ]
    },
    {
     "name": "stderr",
     "output_type": "stream",
     "text": [
      "\n"
     ]
    }
   ],
   "source": [
    "p_list = []\n",
    "for agent in agents:\n",
    "    p_list += torch.sigmoid(agent.w).tolist()\n",
    "p_list.sort(reverse=True)\n",
    "\n",
    "thresh = p_list[1]\n",
    "assert sum(p > thresh for p in p_list) == 1\n",
    "\n",
    "for agent in agents:\n",
    "    agent.eval(prob_threshold=thresh, threshold_type='BINARY_INV')\n",
    "val_acc = validate(model, val_loader, args.device)\n",
    "\n",
    "# Original accuracy\n",
    "for agent in agents:\n",
    "    agent.eval(prob_threshold=0.0, threshold_type='BINARY')\n",
    "val_acc_orig = validate(model, val_loader, args.device)\n",
    "\n",
    "print('Val acc: {}'.format(val_acc))\n",
    "print('Val acc orig: {}'.format(val_acc_orig))\n",
    "print('Accuracy drop: {}'.format(val_acc_orig - val_acc))"
   ]
  },
  {
   "attachments": {},
   "cell_type": "markdown",
   "metadata": {},
   "source": [
    "Drop the lowest weight channel."
   ]
  },
  {
   "cell_type": "code",
   "execution_count": null,
   "metadata": {},
   "outputs": [
    {
     "name": "stderr",
     "output_type": "stream",
     "text": [
      "Val: 100%|██████████| 40/40 [00:02<00:00, 16.38it/s, acc=0.915]\n",
      "Val: 100%|██████████| 40/40 [00:02<00:00, 16.31it/s, acc=0.919]"
     ]
    },
    {
     "name": "stdout",
     "output_type": "stream",
     "text": [
      "Val acc: 0.9155\n",
      "Val acc orig: 0.9194\n",
      "Accuracy drop: 0.0039000000000000146\n"
     ]
    },
    {
     "name": "stderr",
     "output_type": "stream",
     "text": [
      "\n"
     ]
    }
   ],
   "source": [
    "p_list = []\n",
    "for agent in agents:\n",
    "    p_list += torch.sigmoid(agent.w).tolist()\n",
    "p_list.sort(reverse=False)\n",
    "\n",
    "thresh = p_list[1]\n",
    "assert sum(p < thresh for p in p_list) == 1\n",
    "\n",
    "for agent in agents:\n",
    "    agent.eval(prob_threshold=thresh, threshold_type='BINARY')\n",
    "val_acc = validate(model, val_loader, args.device)\n",
    "\n",
    "# Original accuracy\n",
    "for agent in agents:\n",
    "    agent.eval(prob_threshold=0.0, threshold_type='BINARY')\n",
    "val_acc_orig = validate(model, val_loader, args.device)\n",
    "\n",
    "print('Val acc: {}'.format(val_acc))\n",
    "print('Val acc orig: {}'.format(val_acc_orig))\n",
    "print('Accuracy drop: {}'.format(val_acc_orig - val_acc))"
   ]
  },
  {
   "cell_type": "code",
   "execution_count": null,
   "metadata": {},
   "outputs": [
    {
     "name": "stderr",
     "output_type": "stream",
     "text": [
      "Val: 100%|██████████| 40/40 [00:02<00:00, 16.43it/s, acc=0.92] \n",
      "Val: 100%|██████████| 40/40 [00:02<00:00, 16.61it/s, acc=0.914]\n",
      "Val: 100%|██████████| 40/40 [00:02<00:00, 16.61it/s, acc=0.911]\n",
      "Val: 100%|██████████| 40/40 [00:02<00:00, 16.57it/s, acc=0.911]\n",
      "Val: 100%|██████████| 40/40 [00:02<00:00, 16.60it/s, acc=0.909]\n",
      "Val: 100%|██████████| 40/40 [00:02<00:00, 16.62it/s, acc=0.9]  \n",
      "Val: 100%|██████████| 40/40 [00:02<00:00, 16.57it/s, acc=0.889]\n",
      "Val: 100%|██████████| 40/40 [00:02<00:00, 16.62it/s, acc=0.889]\n",
      "Val: 100%|██████████| 40/40 [00:02<00:00, 16.62it/s, acc=0.884]\n",
      "Val: 100%|██████████| 40/40 [00:02<00:00, 16.56it/s, acc=0.883]\n",
      "Val: 100%|██████████| 40/40 [00:02<00:00, 16.54it/s, acc=0.879]\n",
      "Val: 100%|██████████| 40/40 [00:02<00:00, 16.53it/s, acc=0.86] \n",
      "Val: 100%|██████████| 40/40 [00:02<00:00, 16.53it/s, acc=0.578]\n",
      "Val: 100%|██████████| 40/40 [00:02<00:00, 16.54it/s, acc=0.36] \n",
      "Val: 100%|██████████| 40/40 [00:02<00:00, 16.55it/s, acc=0.144]\n",
      "Val: 100%|██████████| 40/40 [00:02<00:00, 16.57it/s, acc=0.102]\n",
      "Val: 100%|██████████| 40/40 [00:02<00:00, 16.58it/s, acc=0.1]   \n",
      "Val: 100%|██████████| 40/40 [00:02<00:00, 16.56it/s, acc=0.917]\n",
      "Val: 100%|██████████| 40/40 [00:02<00:00, 16.57it/s, acc=0.915]\n",
      "Val: 100%|██████████| 40/40 [00:02<00:00, 16.56it/s, acc=0.915]\n",
      "Val: 100%|██████████| 40/40 [00:02<00:00, 16.61it/s, acc=0.915]\n",
      "Val: 100%|██████████| 40/40 [00:02<00:00, 16.59it/s, acc=0.912]\n",
      "Val: 100%|██████████| 40/40 [00:02<00:00, 16.60it/s, acc=0.91] \n",
      "Val: 100%|██████████| 40/40 [00:02<00:00, 16.61it/s, acc=0.91] \n",
      "Val: 100%|██████████| 40/40 [00:02<00:00, 16.62it/s, acc=0.909]\n",
      "Val: 100%|██████████| 40/40 [00:02<00:00, 16.63it/s, acc=0.908]\n",
      "Val: 100%|██████████| 40/40 [00:02<00:00, 16.53it/s, acc=0.908]\n",
      "Val: 100%|██████████| 40/40 [00:02<00:00, 16.53it/s, acc=0.908]\n",
      "Val: 100%|██████████| 40/40 [00:02<00:00, 16.55it/s, acc=0.907]\n",
      "Val: 100%|██████████| 40/40 [00:02<00:00, 16.51it/s, acc=0.903]\n",
      "Val: 100%|██████████| 40/40 [00:02<00:00, 16.56it/s, acc=0.902]\n",
      "Val: 100%|██████████| 40/40 [00:02<00:00, 16.56it/s, acc=0.899]\n",
      "Val: 100%|██████████| 40/40 [00:02<00:00, 16.53it/s, acc=0.898]\n",
      "Val: 100%|██████████| 40/40 [00:02<00:00, 16.58it/s, acc=0.901]\n"
     ]
    }
   ],
   "source": [
    "acc_high_list = []\n",
    "acc_low_list = []\n",
    "num_channels_list = [0, 1, 5, 10, 15, 20, 25, 30, 35, 40, 45, 50, 100, 150, 200, 250, 300]\n",
    "p_list = []\n",
    "for agent in agents:\n",
    "    p_list += torch.sigmoid(agent.w).tolist()\n",
    "\n",
    "\n",
    "# Highest weight channels\n",
    "p_list.sort(reverse=True)\n",
    "for x in num_channels_list:\n",
    "    thresh = p_list[x]\n",
    "    assert sum(p > thresh for p in p_list) == x\n",
    "\n",
    "    for agent in agents:\n",
    "        agent.eval(prob_threshold=thresh, threshold_type='BINARY_INV')\n",
    "    val_acc = validate(model, val_loader, args.device)\n",
    "    acc_high_list.append(val_acc*100)\n",
    "\n",
    "\n",
    "# Lowest weight channels\n",
    "p_list.sort(reverse=False)\n",
    "for x in num_channels_list:\n",
    "    thresh = p_list[x]\n",
    "    assert sum(p < thresh for p in p_list) == x\n",
    "\n",
    "    for agent in agents:\n",
    "        agent.eval(prob_threshold=thresh, threshold_type='BINARY')\n",
    "    val_acc = validate(model, val_loader, args.device)\n",
    "    acc_low_list.append(val_acc*100)"
   ]
  },
  {
   "cell_type": "code",
   "execution_count": null,
   "metadata": {},
   "outputs": [
    {
     "data": {
      "image/png": "[encoded data removed]",
      "text/plain": [
       "<Figure size 640x480 with 1 Axes>"
      ]
     },
     "metadata": {},
     "output_type": "display_data"
    }
   ],
   "source": [
    "x_axis = [str(x) for x in num_channels_list]\n",
    "plt.plot(x_axis, acc_high_list, label ='high', marker='o', color='red')\n",
    "plt.plot(x_axis, acc_low_list, label ='low', marker='o', color='blue')\n",
    "\n",
    "plt.xlabel(\"Number of channels dropped\")\n",
    "plt.ylabel(\"Accuracy (%)\")\n",
    "plt.yticks([0, 25, 50, 75, 100], fontsize=8)\n",
    "plt.xticks(fontsize=8)\n",
    "plt.legend()\n",
    "plt.show()"
   ]
  },
  {
   "cell_type": "code",
   "execution_count": null,
   "metadata": {},
   "outputs": [],
   "source": []
  }
 ],
 "metadata": {
  "kernelspec": {
   "display_name": "dl",
   "language": "python",
   "name": "python3"
  },
  "language_info": {
   "codemirror_mode": {
    "name": "ipython",
    "version": 3
   },
   "file_extension": ".py",
   "mimetype": "text/x-python",
   "name": "python",
   "nbconvert_exporter": "python",
   "pygments_lexer": "ipython3",
   "version": "3.10.9"
  },
  "orig_nbformat": 4,
  "vscode": {
   "interpreter": {
    "hash": "dd93ba6a5319cf2f6ba12746a6142d623d871224f9600524751428eb44288806"
   }
  }
 },
 "nbformat": 4,
 "nbformat_minor": 2
}
