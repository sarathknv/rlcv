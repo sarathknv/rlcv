{
 "cells": [
  {
   "cell_type": "code",
   "execution_count": 1,
   "metadata": {},
   "outputs": [],
   "source": [
    "import copy\n",
    "import matplotlib.pyplot as plt\n",
    "import numpy as np\n",
    "import pprint\n",
    "\n",
    "import torch\n",
    "import torch.backends\n",
    "import torch.nn as nn\n",
    "import torch.optim as optim\n",
    "from torch.optim.lr_scheduler import ReduceLROnPlateau, StepLR\n",
    "from torch.utils.data import DataLoader\n",
    "from torchvision import datasets, transforms\n",
    "\n",
    "from agents import Agent, attach_agents\n",
    "from models import VGG16\n",
    "from training_utils import validate, train"
   ]
  },
  {
   "cell_type": "markdown",
   "metadata": {},
   "source": [
    "Hyperparameters"
   ]
  },
  {
   "cell_type": "code",
   "execution_count": 2,
   "metadata": {},
   "outputs": [],
   "source": [
    "class Args:\n",
    "    checkpoint = 'best.pth.tar'  # Pretrained VGG weights for CIFAR10.\n",
    "    num_workers = 0\n",
    "    batch_size = 256\n",
    "    lr_agents = 0.01\n",
    "    lr_model = 0.001\n",
    "    epochs = 200 \n",
    "    penalty = 4  # lambda\n",
    "    init_weight = 6.9   # Agent's initial weight value.\n",
    "    \n",
    "    if torch.cuda.is_available():\n",
    "        device = torch.device('cuda')\n",
    "    elif hasattr(torch.backends, 'mps') and torch.backends.mps.is_available():\n",
    "        device = torch.device('mps')\n",
    "    else:\n",
    "        device = torch.device('cpu')\n",
    "\n",
    "args = Args()"
   ]
  },
  {
   "cell_type": "markdown",
   "metadata": {},
   "source": [
    "Load CIFAR-10 dataset"
   ]
  },
  {
   "cell_type": "code",
   "execution_count": 3,
   "metadata": {},
   "outputs": [
    {
     "name": "stdout",
     "output_type": "stream",
     "text": [
      "Files already downloaded and verified\n",
      "Files already downloaded and verified\n"
     ]
    }
   ],
   "source": [
    "train_data = datasets.CIFAR10('./data', train=True, download=True,\n",
    "                              transform=transforms.Compose([\n",
    "                                  transforms.RandomHorizontalFlip(),\n",
    "                                  transforms.RandomCrop(32, padding=4),\n",
    "                                  transforms.RandomRotation(20),\n",
    "                                  transforms.ToTensor(),\n",
    "                              ]))\n",
    "\n",
    "val_data = datasets.CIFAR10('./data', train=False, download=True,\n",
    "                            transform=transforms.Compose([\n",
    "                                transforms.ToTensor(),\n",
    "                            ]))\n",
    "\n",
    "train_loader = DataLoader(train_data,\n",
    "                          batch_size=args.batch_size,\n",
    "                          shuffle=True,\n",
    "                          num_workers=args.num_workers)\n",
    "\n",
    "val_loader = DataLoader(val_data,\n",
    "                        batch_size=args.batch_size,\n",
    "                        shuffle=True,\n",
    "                        num_workers=args.num_workers)"
   ]
  },
  {
   "attachments": {},
   "cell_type": "markdown",
   "metadata": {},
   "source": [
    "Load pretrained VGG16 model"
   ]
  },
  {
   "cell_type": "code",
   "execution_count": 4,
   "metadata": {},
   "outputs": [],
   "source": [
    "checkpoint = torch.load(args.checkpoint, map_location=args.device)\n",
    "model = VGG16()\n",
    "model.load_state_dict(checkpoint['state_dict'])\n",
    "model.to(args.device)\n",
    "model.eval();\n",
    "\n",
    "model_orig = copy.deepcopy(model)  # Copy of the original model, just in case."
   ]
  },
  {
   "cell_type": "markdown",
   "metadata": {},
   "source": [
    "Print the baseline accuracy"
   ]
  },
  {
   "cell_type": "code",
   "execution_count": 5,
   "metadata": {},
   "outputs": [
    {
     "name": "stderr",
     "output_type": "stream",
     "text": [
      "Val: 100%|██████████| 40/40 [00:02<00:00, 18.48it/s, acc=0.919]"
     ]
    },
    {
     "name": "stdout",
     "output_type": "stream",
     "text": [
      "Baseline accuracy: 0.9194\n"
     ]
    },
    {
     "name": "stderr",
     "output_type": "stream",
     "text": [
      "\n"
     ]
    }
   ],
   "source": [
    "val_acc = validate(model, val_loader, args.device)\n",
    "print('Baseline accuracy: {}'.format(val_acc))"
   ]
  },
  {
   "attachments": {},
   "cell_type": "markdown",
   "metadata": {},
   "source": [
    "Attach agents"
   ]
  },
  {
   "cell_type": "code",
   "execution_count": 6,
   "metadata": {},
   "outputs": [],
   "source": [
    "modules_to_prune = [['features.0', 'features.1'],\n",
    "                    ['features.3', 'features.4'],\n",
    "                    ['features.7', 'features.8'],\n",
    "                    ['features.10', 'features.11'],\n",
    "                    ['features.14', 'features.15'],\n",
    "                    ['features.17', 'features.18'],\n",
    "                    ['features.20', 'features.21'],\n",
    "                    ['features.24', 'features.25'],\n",
    "                    ['features.27', 'features.28'],\n",
    "                    ['features.30', 'features.31'],\n",
    "                    ['features.34', 'features.35'],\n",
    "                    ['features.37', 'features.38'],\n",
    "                    ['features.40', 'features.41'],\n",
    "                    ['classifier.0', 'classifier.1']]\n",
    "\n",
    "agents, name_to_agent, num_agents, num_subagents = attach_agents(model,\n",
    "                                                                 modules_to_prune,\n",
    "                                                                 args.device,\n",
    "                                                                 args.init_weight)"
   ]
  },
  {
   "cell_type": "code",
   "execution_count": 7,
   "metadata": {},
   "outputs": [
    {
     "name": "stdout",
     "output_type": "stream",
     "text": [
      "Total agents: 4736\n"
     ]
    }
   ],
   "source": [
    "print('Total agents: {}'.format(sum(agent.num_subagents for agent in agents)))\n",
    "assert num_subagents == sum(agent.num_subagents for agent in agents)"
   ]
  },
  {
   "cell_type": "markdown",
   "metadata": {},
   "source": [
    "Training the model"
   ]
  },
  {
   "cell_type": "code",
   "execution_count": 8,
   "metadata": {},
   "outputs": [
    {
     "name": "stderr",
     "output_type": "stream",
     "text": [
      "Train: 100%|██████████| 196/196 [00:22<00:00,  8.85it/s, acc=0.828, dropped=782, loss_a=0.0803, loss_m=0.00285, p=0.828, p_max=1, p_min=0.000371, w=3.58]\n",
      "Val: 100%|██████████| 40/40 [00:02<00:00, 17.07it/s, acc=0.832]\n"
     ]
    },
    {
     "name": "stdout",
     "output_type": "stream",
     "text": [
      "Epoch: 177\n"
     ]
    },
    {
     "name": "stderr",
     "output_type": "stream",
     "text": [
      "Train: 100%|██████████| 196/196 [00:22<00:00,  8.86it/s, acc=0.83, dropped=782, loss_a=0.0872, loss_m=0.00284, p=0.828, p_max=1, p_min=0.000406, w=3.59] \n",
      "Val: 100%|██████████| 40/40 [00:02<00:00, 17.09it/s, acc=0.831]\n"
     ]
    },
    {
     "name": "stdout",
     "output_type": "stream",
     "text": [
      "Epoch: 178\n"
     ]
    },
    {
     "name": "stderr",
     "output_type": "stream",
     "text": [
      "Train: 100%|██████████| 196/196 [00:21<00:00,  9.03it/s, acc=0.83, dropped=782, loss_a=0.088, loss_m=0.00285, p=0.828, p_max=1, p_min=0.000409, w=3.59]  \n",
      "Val: 100%|██████████| 40/40 [00:02<00:00, 17.31it/s, acc=0.837]\n"
     ]
    },
    {
     "name": "stdout",
     "output_type": "stream",
     "text": [
      "Epoch: 179\n"
     ]
    },
    {
     "name": "stderr",
     "output_type": "stream",
     "text": [
      "Train: 100%|██████████| 196/196 [00:21<00:00,  9.01it/s, acc=0.832, dropped=787, loss_a=0.0922, loss_m=0.00285, p=0.827, p_max=1, p_min=0.000424, w=3.58]\n",
      "Val: 100%|██████████| 40/40 [00:02<00:00, 17.26it/s, acc=0.831]\n"
     ]
    },
    {
     "name": "stdout",
     "output_type": "stream",
     "text": [
      "Epoch: 180\n"
     ]
    },
    {
     "name": "stderr",
     "output_type": "stream",
     "text": [
      "Train: 100%|██████████| 196/196 [00:21<00:00,  9.02it/s, acc=0.829, dropped=786, loss_a=0.0855, loss_m=0.00285, p=0.827, p_max=1, p_min=0.000444, w=3.58]\n",
      "Val: 100%|██████████| 40/40 [00:02<00:00, 17.34it/s, acc=0.834]\n"
     ]
    },
    {
     "name": "stdout",
     "output_type": "stream",
     "text": [
      "Epoch: 181\n"
     ]
    },
    {
     "name": "stderr",
     "output_type": "stream",
     "text": [
      "Train: 100%|██████████| 196/196 [00:21<00:00,  9.07it/s, acc=0.829, dropped=787, loss_a=0.0834, loss_m=0.00286, p=0.827, p_max=1, p_min=0.000366, w=3.58]\n",
      "Val: 100%|██████████| 40/40 [00:02<00:00, 17.06it/s, acc=0.835]\n"
     ]
    },
    {
     "name": "stdout",
     "output_type": "stream",
     "text": [
      "Epoch: 182\n"
     ]
    },
    {
     "name": "stderr",
     "output_type": "stream",
     "text": [
      "Train: 100%|██████████| 196/196 [00:21<00:00,  8.95it/s, acc=0.829, dropped=784, loss_a=0.0847, loss_m=0.00284, p=0.827, p_max=1, p_min=0.000426, w=3.59]\n",
      "Val: 100%|██████████| 40/40 [00:02<00:00, 17.24it/s, acc=0.834]\n"
     ]
    },
    {
     "name": "stdout",
     "output_type": "stream",
     "text": [
      "Epoch: 183\n"
     ]
    },
    {
     "name": "stderr",
     "output_type": "stream",
     "text": [
      "Train: 100%|██████████| 196/196 [00:22<00:00,  8.85it/s, acc=0.83, dropped=786, loss_a=0.0887, loss_m=0.00283, p=0.827, p_max=1, p_min=0.000439, w=3.58] \n",
      "Val: 100%|██████████| 40/40 [00:02<00:00, 17.38it/s, acc=0.837]\n"
     ]
    },
    {
     "name": "stdout",
     "output_type": "stream",
     "text": [
      "Epoch: 184\n"
     ]
    },
    {
     "name": "stderr",
     "output_type": "stream",
     "text": [
      "Train: 100%|██████████| 196/196 [00:21<00:00,  9.01it/s, acc=0.831, dropped=787, loss_a=0.0905, loss_m=0.00284, p=0.827, p_max=1, p_min=0.000401, w=3.58]\n",
      "Val: 100%|██████████| 40/40 [00:02<00:00, 17.27it/s, acc=0.842]\n"
     ]
    },
    {
     "name": "stdout",
     "output_type": "stream",
     "text": [
      "Epoch: 185\n"
     ]
    },
    {
     "name": "stderr",
     "output_type": "stream",
     "text": [
      "Train: 100%|██████████| 196/196 [00:21<00:00,  8.92it/s, acc=0.83, dropped=786, loss_a=0.089, loss_m=0.00284, p=0.826, p_max=1, p_min=0.000398, w=3.58]  \n",
      "Val: 100%|██████████| 40/40 [00:02<00:00, 16.54it/s, acc=0.835]\n"
     ]
    },
    {
     "name": "stdout",
     "output_type": "stream",
     "text": [
      "Epoch: 186\n"
     ]
    },
    {
     "name": "stderr",
     "output_type": "stream",
     "text": [
      "Train: 100%|██████████| 196/196 [00:21<00:00,  8.94it/s, acc=0.829, dropped=791, loss_a=0.0845, loss_m=0.00285, p=0.826, p_max=1, p_min=0.000369, w=3.58]\n",
      "Val: 100%|██████████| 40/40 [00:02<00:00, 17.11it/s, acc=0.835]\n"
     ]
    },
    {
     "name": "stdout",
     "output_type": "stream",
     "text": [
      "Epoch: 187\n"
     ]
    },
    {
     "name": "stderr",
     "output_type": "stream",
     "text": [
      "Train: 100%|██████████| 196/196 [00:21<00:00,  8.97it/s, acc=0.829, dropped=791, loss_a=0.0841, loss_m=0.00286, p=0.826, p_max=1, p_min=0.000346, w=3.58]\n",
      "Val: 100%|██████████| 40/40 [00:02<00:00, 17.31it/s, acc=0.842]\n"
     ]
    },
    {
     "name": "stdout",
     "output_type": "stream",
     "text": [
      "Epoch: 188\n"
     ]
    },
    {
     "name": "stderr",
     "output_type": "stream",
     "text": [
      "Train: 100%|██████████| 196/196 [00:21<00:00,  8.99it/s, acc=0.83, dropped=794, loss_a=0.089, loss_m=0.00285, p=0.826, p_max=1, p_min=0.000343, w=3.59]  \n",
      "Val: 100%|██████████| 40/40 [00:02<00:00, 17.34it/s, acc=0.842]\n"
     ]
    },
    {
     "name": "stdout",
     "output_type": "stream",
     "text": [
      "Epoch: 189\n"
     ]
    },
    {
     "name": "stderr",
     "output_type": "stream",
     "text": [
      "Train: 100%|██████████| 196/196 [00:21<00:00,  8.98it/s, acc=0.832, dropped=791, loss_a=0.095, loss_m=0.00285, p=0.826, p_max=1, p_min=0.000401, w=3.59] \n",
      "Val: 100%|██████████| 40/40 [00:02<00:00, 17.23it/s, acc=0.848]\n"
     ]
    },
    {
     "name": "stdout",
     "output_type": "stream",
     "text": [
      "Epoch: 190\n"
     ]
    },
    {
     "name": "stderr",
     "output_type": "stream",
     "text": [
      "Train: 100%|██████████| 196/196 [00:22<00:00,  8.90it/s, acc=0.834, dropped=793, loss_a=0.0991, loss_m=0.00285, p=0.825, p_max=1, p_min=0.000412, w=3.59]\n",
      "Val: 100%|██████████| 40/40 [00:02<00:00, 17.09it/s, acc=0.842]\n"
     ]
    },
    {
     "name": "stdout",
     "output_type": "stream",
     "text": [
      "Epoch: 191\n"
     ]
    },
    {
     "name": "stderr",
     "output_type": "stream",
     "text": [
      "Train: 100%|██████████| 196/196 [00:21<00:00,  8.96it/s, acc=0.83, dropped=798, loss_a=0.0879, loss_m=0.00287, p=0.825, p_max=1, p_min=0.000363, w=3.59] \n",
      "Val: 100%|██████████| 40/40 [00:02<00:00, 17.09it/s, acc=0.838]\n"
     ]
    },
    {
     "name": "stdout",
     "output_type": "stream",
     "text": [
      "Epoch: 192\n"
     ]
    },
    {
     "name": "stderr",
     "output_type": "stream",
     "text": [
      "Train: 100%|██████████| 196/196 [00:21<00:00,  9.03it/s, acc=0.832, dropped=801, loss_a=0.0929, loss_m=0.00288, p=0.825, p_max=1, p_min=0.000357, w=3.59]\n",
      "Val: 100%|██████████| 40/40 [00:02<00:00, 17.24it/s, acc=0.838]\n"
     ]
    },
    {
     "name": "stdout",
     "output_type": "stream",
     "text": [
      "Epoch: 193\n"
     ]
    },
    {
     "name": "stderr",
     "output_type": "stream",
     "text": [
      "Train: 100%|██████████| 196/196 [00:21<00:00,  8.99it/s, acc=0.83, dropped=800, loss_a=0.0881, loss_m=0.00288, p=0.824, p_max=1, p_min=0.000416, w=3.6] \n",
      "Val: 100%|██████████| 40/40 [00:02<00:00, 17.38it/s, acc=0.837]\n"
     ]
    },
    {
     "name": "stdout",
     "output_type": "stream",
     "text": [
      "Epoch: 194\n"
     ]
    },
    {
     "name": "stderr",
     "output_type": "stream",
     "text": [
      "Train: 100%|██████████| 196/196 [00:21<00:00,  9.03it/s, acc=0.829, dropped=802, loss_a=0.0859, loss_m=0.00289, p=0.824, p_max=1, p_min=0.000429, w=3.6]\n",
      "Val: 100%|██████████| 40/40 [00:02<00:00, 17.38it/s, acc=0.836]\n"
     ]
    },
    {
     "name": "stdout",
     "output_type": "stream",
     "text": [
      "Epoch: 195\n"
     ]
    },
    {
     "name": "stderr",
     "output_type": "stream",
     "text": [
      "Train: 100%|██████████| 196/196 [00:21<00:00,  9.01it/s, acc=0.828, dropped=806, loss_a=0.0844, loss_m=0.00289, p=0.824, p_max=1, p_min=0.000416, w=3.6]\n",
      "Val: 100%|██████████| 40/40 [00:02<00:00, 17.40it/s, acc=0.838]\n"
     ]
    },
    {
     "name": "stdout",
     "output_type": "stream",
     "text": [
      "Epoch: 196\n"
     ]
    },
    {
     "name": "stderr",
     "output_type": "stream",
     "text": [
      "Train: 100%|██████████| 196/196 [00:21<00:00,  8.98it/s, acc=0.829, dropped=805, loss_a=0.0865, loss_m=0.00289, p=0.823, p_max=1, p_min=0.000335, w=3.6]\n",
      "Val: 100%|██████████| 40/40 [00:02<00:00, 16.67it/s, acc=0.838]\n"
     ]
    },
    {
     "name": "stdout",
     "output_type": "stream",
     "text": [
      "Epoch: 197\n"
     ]
    },
    {
     "name": "stderr",
     "output_type": "stream",
     "text": [
      "Train: 100%|██████████| 196/196 [00:21<00:00,  9.05it/s, acc=0.828, dropped=803, loss_a=0.0836, loss_m=0.00289, p=0.823, p_max=1, p_min=0.000355, w=3.61]\n",
      "Val: 100%|██████████| 40/40 [00:02<00:00, 17.25it/s, acc=0.835]\n"
     ]
    },
    {
     "name": "stdout",
     "output_type": "stream",
     "text": [
      "Epoch: 198\n"
     ]
    },
    {
     "name": "stderr",
     "output_type": "stream",
     "text": [
      "Train: 100%|██████████| 196/196 [00:21<00:00,  8.95it/s, acc=0.831, dropped=807, loss_a=0.0916, loss_m=0.00288, p=0.823, p_max=1, p_min=0.000366, w=3.6]\n",
      "Val: 100%|██████████| 40/40 [00:02<00:00, 16.95it/s, acc=0.834]\n"
     ]
    },
    {
     "name": "stdout",
     "output_type": "stream",
     "text": [
      "Epoch: 199\n"
     ]
    },
    {
     "name": "stderr",
     "output_type": "stream",
     "text": [
      "Train: 100%|██████████| 196/196 [00:21<00:00,  8.96it/s, acc=0.829, dropped=810, loss_a=0.0844, loss_m=0.00289, p=0.823, p_max=1, p_min=0.0003, w=3.6]  \n",
      "Val: 100%|██████████| 40/40 [00:02<00:00, 17.26it/s, acc=0.833]"
     ]
    },
    {
     "name": "stdout",
     "output_type": "stream",
     "text": [
      "{'accuracy': 0.8285,\n",
      " 'accuracy_reward_avg': 0.1425,\n",
      " 'compression_reward_avg': 119.40092,\n",
      " 'full_reward_avg': 16.97522,\n",
      " 'loss_agents_avg': 0.08436963385105133,\n",
      " 'loss_model_avg': 0.0028895122361183166,\n",
      " 'num_channels_dropped': 809.5875,\n",
      " 'p_max': 0.9999898672103882,\n",
      " 'p_min': 0.00030013261130079627,\n",
      " 'probabilities_avg': 0.8230836944920675,\n",
      " 'total_channels': 4736,\n",
      " 'total_samples': 50000,\n",
      " 'weights_avg': 3.604158333369664}\n",
      "Val accuracy: 0.8334\n"
     ]
    },
    {
     "name": "stderr",
     "output_type": "stream",
     "text": [
      "\n"
     ]
    }
   ],
   "source": [
    "optimizer_agents = optim.Adam([agent.w for agent in agents], lr=args.lr_agents)\n",
    "# scheduler_agents = StepLR(optimizer_agents, step_size=5, gamma=0.3)\n",
    "\n",
    "optimizer_model = optim.Adam(model.parameters(), lr=args.lr_model)#, momentum=0.9, weight_decay=0.0005)\n",
    "# scheduler_model = StepLR(optimizer_model, step_size=5, gamma=0.3)\n",
    "\n",
    "criterion_model = nn.CrossEntropyLoss().to(args.device)\n",
    "for epoch in range(args.epochs):\n",
    "    print('Epoch: {}'.format(epoch))\n",
    "    \n",
    "    train_logs = train(model, agents, train_loader, optimizer_model,\n",
    "                       optimizer_agents, criterion_model, args.penalty,\n",
    "                       args.device, optimize_agents=True, optimize_model=False)\n",
    "    \n",
    "    [agent.eval() for agent in agents]\n",
    "    val_acc = validate(model, val_loader, args.device)\n",
    "    \n",
    "pprint.pprint(train_logs)\n",
    "print('Val accuracy: {}'.format(val_acc))"
   ]
  },
  {
   "cell_type": "code",
   "execution_count": 9,
   "metadata": {},
   "outputs": [
    {
     "name": "stdout",
     "output_type": "stream",
     "text": [
      "Avg p: 0.8296278080901716\n",
      "Min p: 0.0002983564045280218\n",
      "Max p: 0.9999898672103882\n",
      "Total agents: 4736\n",
      "Agents p >= 0.5: 4025\n",
      "Agents p >= 0.9: 3376\n",
      "Agents p >= 0.998: 824\n",
      "Agents p >= 0.999: 507\n"
     ]
    }
   ],
   "source": [
    "p_list = []\n",
    "for agent in agents:\n",
    "    p_list += torch.sigmoid(agent.w).tolist()    \n",
    "\n",
    "print('Avg p: {}'.format(sum(p_list)/len(p_list)))\n",
    "print('Min p: {}'.format(min(p_list)))\n",
    "print('Max p: {}'.format(max(p_list)))\n",
    "print('Total agents: {}'.format(sum(agent.num_subagents for agent in agents)))\n",
    "print('Agents p >= 0.5: {}'.format(sum(p >= 0.5 for p in p_list)))\n",
    "print('Agents p >= 0.9: {}'.format(sum(p >= 0.9 for p in p_list)))\n",
    "print('Agents p >= 0.998: {}'.format(sum(p >= 0.998 for p in p_list)))\n",
    "print('Agents p >= 0.999: {}'.format(sum(p >= 0.999 for p in p_list)))\n",
    "\n",
    "assert len(p_list) == sum(agent.num_subagents for agent in agents)"
   ]
  },
  {
   "attachments": {},
   "cell_type": "markdown",
   "metadata": {},
   "source": [
    "Drop the highest weight channel."
   ]
  },
  {
   "cell_type": "code",
   "execution_count": 10,
   "metadata": {},
   "outputs": [
    {
     "name": "stderr",
     "output_type": "stream",
     "text": [
      "Val: 100%|██████████| 40/40 [00:02<00:00, 16.74it/s, acc=0.913]\n",
      "Val: 100%|██████████| 40/40 [00:02<00:00, 17.32it/s, acc=0.919]"
     ]
    },
    {
     "name": "stdout",
     "output_type": "stream",
     "text": [
      "Val acc: 0.9128\n",
      "Val acc orig: 0.9194\n",
      "Accuracy drop: 0.00660000000000005\n"
     ]
    },
    {
     "name": "stderr",
     "output_type": "stream",
     "text": [
      "\n"
     ]
    }
   ],
   "source": [
    "p_list = []\n",
    "for agent in agents:\n",
    "    p_list += torch.sigmoid(agent.w).tolist()\n",
    "p_list.sort(reverse=True)\n",
    "\n",
    "thresh = p_list[1]\n",
    "assert sum(p > thresh for p in p_list) == 1\n",
    "\n",
    "for agent in agents:\n",
    "    agent.eval(prob_threshold=thresh, threshold_type='BINARY_INV')\n",
    "val_acc = validate(model, val_loader, args.device)\n",
    "\n",
    "# Original accuracy\n",
    "for agent in agents:\n",
    "    agent.eval(prob_threshold=0.0, threshold_type='BINARY')\n",
    "val_acc_orig = validate(model, val_loader, args.device)\n",
    "\n",
    "print('Val acc: {}'.format(val_acc))\n",
    "print('Val acc orig: {}'.format(val_acc_orig))\n",
    "print('Accuracy drop: {}'.format(val_acc_orig - val_acc))"
   ]
  },
  {
   "attachments": {},
   "cell_type": "markdown",
   "metadata": {},
   "source": [
    "Drop the lowest weight channel."
   ]
  },
  {
   "cell_type": "code",
   "execution_count": 11,
   "metadata": {},
   "outputs": [
    {
     "name": "stderr",
     "output_type": "stream",
     "text": [
      "Val: 100%|██████████| 40/40 [00:02<00:00, 16.69it/s, acc=0.917]\n",
      "Val: 100%|██████████| 40/40 [00:02<00:00, 17.08it/s, acc=0.919]"
     ]
    },
    {
     "name": "stdout",
     "output_type": "stream",
     "text": [
      "Val acc: 0.9171\n",
      "Val acc orig: 0.9194\n",
      "Accuracy drop: 0.0022999999999999687\n"
     ]
    },
    {
     "name": "stderr",
     "output_type": "stream",
     "text": [
      "\n"
     ]
    }
   ],
   "source": [
    "p_list = []\n",
    "for agent in agents:\n",
    "    p_list += torch.sigmoid(agent.w).tolist()\n",
    "p_list.sort(reverse=False)\n",
    "\n",
    "thresh = p_list[1]\n",
    "assert sum(p < thresh for p in p_list) == 1\n",
    "\n",
    "for agent in agents:\n",
    "    agent.eval(prob_threshold=thresh, threshold_type='BINARY')\n",
    "val_acc = validate(model, val_loader, args.device)\n",
    "\n",
    "# Original accuracy\n",
    "for agent in agents:\n",
    "    agent.eval(prob_threshold=0.0, threshold_type='BINARY')\n",
    "val_acc_orig = validate(model, val_loader, args.device)\n",
    "\n",
    "print('Val acc: {}'.format(val_acc))\n",
    "print('Val acc orig: {}'.format(val_acc_orig))\n",
    "print('Accuracy drop: {}'.format(val_acc_orig - val_acc))"
   ]
  },
  {
   "cell_type": "code",
   "execution_count": 12,
   "metadata": {},
   "outputs": [
    {
     "name": "stderr",
     "output_type": "stream",
     "text": [
      "Val: 100%|██████████| 40/40 [00:02<00:00, 17.17it/s, acc=0.913]\n",
      "Val: 100%|██████████| 40/40 [00:02<00:00, 17.26it/s, acc=0.913]\n",
      "Val: 100%|██████████| 40/40 [00:02<00:00, 17.23it/s, acc=0.897]\n",
      "Val: 100%|██████████| 40/40 [00:02<00:00, 17.13it/s, acc=0.897]\n",
      "Val: 100%|██████████| 40/40 [00:02<00:00, 17.11it/s, acc=0.89] \n",
      "Val: 100%|██████████| 40/40 [00:02<00:00, 17.22it/s, acc=0.856]\n",
      "Val: 100%|██████████| 40/40 [00:02<00:00, 17.25it/s, acc=0.841]\n",
      "Val: 100%|██████████| 40/40 [00:02<00:00, 17.17it/s, acc=0.796]\n",
      "Val: 100%|██████████| 40/40 [00:02<00:00, 17.38it/s, acc=0.788]\n",
      "Val: 100%|██████████| 40/40 [00:02<00:00, 17.43it/s, acc=0.77] \n",
      "Val: 100%|██████████| 40/40 [00:02<00:00, 17.40it/s, acc=0.724]\n",
      "Val: 100%|██████████| 40/40 [00:02<00:00, 17.43it/s, acc=0.705]\n",
      "Val: 100%|██████████| 40/40 [00:02<00:00, 17.37it/s, acc=0.483]\n",
      "Val: 100%|██████████| 40/40 [00:02<00:00, 17.10it/s, acc=0.136]\n",
      "Val: 100%|██████████| 40/40 [00:02<00:00, 17.04it/s, acc=0.116]\n",
      "Val: 100%|██████████| 40/40 [00:02<00:00, 17.22it/s, acc=0.111]\n",
      "Val: 100%|██████████| 40/40 [00:02<00:00, 16.95it/s, acc=0.102]\n",
      "Val: 100%|██████████| 40/40 [00:02<00:00, 17.37it/s, acc=0.918]\n",
      "Val: 100%|██████████| 40/40 [00:02<00:00, 17.36it/s, acc=0.917]\n",
      "Val: 100%|██████████| 40/40 [00:02<00:00, 16.26it/s, acc=0.913]\n",
      "Val: 100%|██████████| 40/40 [00:02<00:00, 16.21it/s, acc=0.909]\n",
      "Val: 100%|██████████| 40/40 [00:02<00:00, 16.19it/s, acc=0.91] \n",
      "Val: 100%|██████████| 40/40 [00:02<00:00, 15.93it/s, acc=0.907]\n",
      "Val: 100%|██████████| 40/40 [00:02<00:00, 15.96it/s, acc=0.905]\n",
      "Val: 100%|██████████| 40/40 [00:02<00:00, 16.68it/s, acc=0.907]\n",
      "Val: 100%|██████████| 40/40 [00:02<00:00, 16.67it/s, acc=0.907]\n",
      "Val: 100%|██████████| 40/40 [00:02<00:00, 16.65it/s, acc=0.906]\n",
      "Val: 100%|██████████| 40/40 [00:02<00:00, 16.65it/s, acc=0.906]\n",
      "Val: 100%|██████████| 40/40 [00:02<00:00, 16.65it/s, acc=0.904]\n",
      "Val: 100%|██████████| 40/40 [00:02<00:00, 16.59it/s, acc=0.884]\n",
      "Val: 100%|██████████| 40/40 [00:02<00:00, 16.58it/s, acc=0.866]\n",
      "Val: 100%|██████████| 40/40 [00:02<00:00, 16.52it/s, acc=0.857]\n",
      "Val: 100%|██████████| 40/40 [00:02<00:00, 16.58it/s, acc=0.847]\n",
      "Val: 100%|██████████| 40/40 [00:02<00:00, 16.51it/s, acc=0.838]\n"
     ]
    }
   ],
   "source": [
    "acc_high_list = []\n",
    "acc_low_list = []\n",
    "num_channels_list = [0, 1, 5, 10, 15, 20, 25, 30, 35, 40, 45, 50, 100, 150, 200, 250, 300]\n",
    "p_list = []\n",
    "for agent in agents:\n",
    "    p_list += torch.sigmoid(agent.w).tolist()\n",
    "\n",
    "\n",
    "# Highest weight channels\n",
    "p_list.sort(reverse=True)\n",
    "for x in num_channels_list:\n",
    "    thresh = p_list[x]\n",
    "    assert sum(p > thresh for p in p_list) == x\n",
    "\n",
    "    for agent in agents:\n",
    "        agent.eval(prob_threshold=thresh, threshold_type='BINARY_INV')\n",
    "    val_acc = validate(model, val_loader, args.device)\n",
    "    acc_high_list.append(val_acc*100)\n",
    "\n",
    "\n",
    "# Lowest weight channels\n",
    "p_list.sort(reverse=False)\n",
    "for x in num_channels_list:\n",
    "    thresh = p_list[x]\n",
    "    assert sum(p < thresh for p in p_list) == x\n",
    "\n",
    "    for agent in agents:\n",
    "        agent.eval(prob_threshold=thresh, threshold_type='BINARY')\n",
    "    val_acc = validate(model, val_loader, args.device)\n",
    "    acc_low_list.append(val_acc*100)"
   ]
  },
  {
   "cell_type": "code",
   "execution_count": 13,
   "metadata": {},
   "outputs": [
    {
     "data": {
      "image/png": "[encoded data removed]",
      "text/plain": [
       "<Figure size 640x480 with 1 Axes>"
      ]
     },
     "metadata": {},
     "output_type": "display_data"
    }
   ],
   "source": [
    "x_axis = [str(x) for x in num_channels_list]\n",
    "plt.plot(x_axis, acc_high_list, label ='high', marker='o', color='red')\n",
    "plt.plot(x_axis, acc_low_list, label ='low', marker='o', color='blue')\n",
    "\n",
    "plt.xlabel(\"Number of channels dropped\")\n",
    "plt.ylabel(\"Accuracy (%)\")\n",
    "plt.yticks([0, 10, 20, 30, 40, 50, 60, 70, 80, 90, 100], fontsize=8)\n",
    "plt.xticks(fontsize=8)\n",
    "plt.legend()\n",
    "plt.title(\"Penalty = {}\".format(args.penalty))\n",
    "plt.savefig('investigate_policies.png', bbox_inches='tight')\n",
    "plt.show()"
   ]
  },
  {
   "cell_type": "code",
   "execution_count": null,
   "metadata": {},
   "outputs": [],
   "source": []
  }
 ],
 "metadata": {
  "kernelspec": {
   "display_name": "dl",
   "language": "python",
   "name": "python3"
  },
  "language_info": {
   "codemirror_mode": {
    "name": "ipython",
    "version": 3
   },
   "file_extension": ".py",
   "mimetype": "text/x-python",
   "name": "python",
   "nbconvert_exporter": "python",
   "pygments_lexer": "ipython3",
   "version": "3.10.9"
  },
  "orig_nbformat": 4,
  "vscode": {
   "interpreter": {
    "hash": "dd93ba6a5319cf2f6ba12746a6142d623d871224f9600524751428eb44288806"
   }
  }
 },
 "nbformat": 4,
 "nbformat_minor": 2
}
